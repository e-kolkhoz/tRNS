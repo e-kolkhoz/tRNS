{
 "cells": [
  {
   "attachments": {},
   "cell_type": "markdown",
   "id": "defd865b-1a22-495d-8399-1693945169d0",
   "metadata": {},
   "source": [
    "![title](./opadiff.png)"
   ]
  },
  {
   "cell_type": "code",
   "execution_count": 1,
   "id": "43b66783-8273-4f74-bcb8-94604d3265d2",
   "metadata": {},
   "outputs": [],
   "source": [
    "import numpy as np"
   ]
  },
  {
   "cell_type": "code",
   "execution_count": 2,
   "id": "b3bc22fb-89ec-45ca-aebf-409318117986",
   "metadata": {},
   "outputs": [],
   "source": [
    "R1 = 12000\n",
    "Rg = 12000"
   ]
  },
  {
   "cell_type": "code",
   "execution_count": 31,
   "id": "0589b29f-938f-4266-b60e-9f1c670ba3e3",
   "metadata": {},
   "outputs": [],
   "source": [
    "V2 = np.array([-1.65, 1.65])\n",
    "V1 = np.array([-1.65, -1.65])\n",
    "Vout = np.array([3.2, 0])"
   ]
  },
  {
   "cell_type": "code",
   "execution_count": 32,
   "id": "70faa924-508b-4c49-9cbb-d811678367d8",
   "metadata": {},
   "outputs": [],
   "source": [
    "assert V1[0] == V1[1]\n",
    "\n",
    "Rf = -Vout[0]/V1[0]*R1"
   ]
  },
  {
   "cell_type": "code",
   "execution_count": 33,
   "id": "09157fad-3a3f-4db6-b105-07357517f2ab",
   "metadata": {},
   "outputs": [],
   "source": [
    "km = (R1+Rf)/R1\n",
    "b = Vout[1] + (Rf/R1)*V1[1]\n",
    "R2 = (km*V2[1]*Rg)/b - Rg"
   ]
  },
  {
   "cell_type": "code",
   "execution_count": 34,
   "id": "9709d9ac-68fa-47d0-b33e-1fbc119e5082",
   "metadata": {},
   "outputs": [],
   "source": [
    "Vout_check = ((R1+Rf)/R1)*(Rg/(Rg+R2))*V2 - Rf/R1*V1 "
   ]
  },
  {
   "cell_type": "code",
   "execution_count": 35,
   "id": "d618fbb5-22b2-4eb8-8215-f8a9ba5e9ffa",
   "metadata": {},
   "outputs": [
    {
     "data": {
      "text/plain": [
       "array([3.2, 0. ])"
      ]
     },
     "execution_count": 35,
     "metadata": {},
     "output_type": "execute_result"
    }
   ],
   "source": [
    "Vout"
   ]
  },
  {
   "cell_type": "code",
   "execution_count": 36,
   "id": "5856abc7-6845-4e7a-a2b7-93e8d06698e3",
   "metadata": {},
   "outputs": [
    {
     "data": {
      "text/plain": [
       "(12000, np.float64(23272.727272727276), np.float64(-30187.5), 12000)"
      ]
     },
     "execution_count": 36,
     "metadata": {},
     "output_type": "execute_result"
    }
   ],
   "source": [
    "R1, Rf, R2, Rg"
   ]
  },
  {
   "cell_type": "code",
   "execution_count": 134,
   "id": "a123e73a-b526-45cc-af6d-c93c76c1fa94",
   "metadata": {},
   "outputs": [],
   "source": [
    "# инвертим шум"
   ]
  },
  {
   "cell_type": "code",
   "execution_count": 10,
   "id": "2d17e150-830e-45db-a68d-1d1c027991a5",
   "metadata": {},
   "outputs": [],
   "source": [
    "V1 = np.array([0, 3.3])\n",
    "V2 = np.array([3.3, 3.3])\n",
    "Vout = np.array([-9, 9])"
   ]
  },
  {
   "cell_type": "code",
   "execution_count": 11,
   "id": "2e300c60-b658-48aa-b9ea-e77e83850658",
   "metadata": {},
   "outputs": [],
   "source": [
    "assert V1[0] == 0\n",
    "assert V2[0] == V2[1]"
   ]
  },
  {
   "cell_type": "code",
   "execution_count": null,
   "id": "41b231c7-cba7-4cd5-b423-0c820d5b59d5",
   "metadata": {},
   "outputs": [],
   "source": []
  },
  {
   "cell_type": "code",
   "execution_count": null,
   "id": "39cdedac-d823-455f-a7ab-cd963ea4a781",
   "metadata": {},
   "outputs": [],
   "source": []
  }
 ],
 "metadata": {
  "kernelspec": {
   "display_name": "Python 3",
   "language": "python",
   "name": "python3"
  },
  "language_info": {
   "codemirror_mode": {
    "name": "ipython",
    "version": 3
   },
   "file_extension": ".py",
   "mimetype": "text/x-python",
   "name": "python",
   "nbconvert_exporter": "python",
   "pygments_lexer": "ipython3",
   "version": "3.10.12"
  }
 },
 "nbformat": 4,
 "nbformat_minor": 5
}
